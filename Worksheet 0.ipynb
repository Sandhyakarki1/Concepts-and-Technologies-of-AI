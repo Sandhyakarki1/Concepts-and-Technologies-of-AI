{
  "nbformat": 4,
  "nbformat_minor": 0,
  "metadata": {
    "colab": {
      "provenance": []
    },
    "kernelspec": {
      "name": "python3",
      "display_name": "Python 3"
    },
    "language_info": {
      "name": "python"
    }
  },
  "cells": [
    {
      "cell_type": "code",
      "execution_count": 5,
      "metadata": {
        "colab": {
          "base_uri": "https://localhost:8080/"
        },
        "id": "jhZyreVfgaxj",
        "outputId": "6f6bbcfa-5ed2-43b2-ed03-7d6ce58f954b"
      },
      "outputs": [
        {
          "output_type": "stream",
          "name": "stdout",
          "text": [
            "Cold Temperatures:  [8.2, 7.9, 9.0, 8.5, 7.7, 8.4, 9.5, 8.1, 7.6, 8.0, 7.8, 8.7, 9.2, 8.3, 8.9, 7.8]\n",
            "Mild Temperatures: [14.1, 13.5, 13.0, 12.9, 13.3, 14.0, 13.4, 14.2, 12.8, 13.7, 13.6, 13.8, 13.9, 12.7, 13.1, 12.5]\n",
            "Comfortable Temperatures: [17.4, 18.0, 17.8, 16.5, 17.2, 16.7, 18.3, 17.9, 17.0, 16.8, 17.5, 17.1, 18.1, 16.4, 18.2, 16.6]\n"
          ]
        }
      ],
      "source": [
        "#Name:Sandhya Karki\n",
        "#Un Id:2417743\n",
        "#Given temperature data\n",
        "temperatures=[8.2, 17.4, 14.1, 7.9, 18.0, 13.5, 9.0, 17.8, 13.0, 8.5,\n",
        "    16.5, 12.9, 7.7, 17.2, 13.3, 8.4, 16.7, 14.0, 9.5, 18.3,\n",
        "    13.4, 8.1, 17.9, 14.2, 7.6, 17.0, 12.8, 8.0, 16.8, 13.7,\n",
        "    7.8, 17.5, 13.6, 8.7, 17.1, 13.8, 9.2, 18.1, 13.9, 8.3,\n",
        "    16.4, 12.7, 8.9, 18.2, 13.1, 7.8, 16.6, 12.5]\n",
        "\n",
        "# Initialize empty list for temperature classification\n",
        "cold =[]\n",
        "mild =[]\n",
        "comfortable =[]\n",
        "\n",
        "#Iterate through the temperature data and classify them\n",
        "for temp in temperatures:\n",
        "  if temp < 10:\n",
        "    cold.append(temp)\n",
        "  elif 10 <= temp < 15:\n",
        "      mild.append(temp)\n",
        "  elif 15 <= temp < 20:\n",
        "        comfortable.append(temp)\n",
        "# Print the results\n",
        "print(\"Cold Temperatures: \",cold)\n",
        "print(\"Mild Temperatures:\" ,mild)\n",
        "print(\"Comfortable Temperatures:\" , comfortable)"
      ]
    },
    {
      "cell_type": "code",
      "source": [
        "#Counting the occurrences\n",
        "count_mild = len(mild)\n",
        "count_comfortable = len(comfortable)\n",
        "count_comfortable =len(cold)\n",
        "\n",
        "#Printing the counts\n",
        "print(\"Number of mild temperatures:\" ,count_mild)\n",
        "print(\"Number of comfortable temperatures:\" ,count_comfortable)\n",
        "print(\"Number of cold temperatures:\" ,count_comfortable)"
      ],
      "metadata": {
        "colab": {
          "base_uri": "https://localhost:8080/"
        },
        "id": "bI1eEko8jjZ5",
        "outputId": "5f076fbf-6767-4fb7-bed3-28ca7f069e46"
      },
      "execution_count": 8,
      "outputs": [
        {
          "output_type": "stream",
          "name": "stdout",
          "text": [
            "Number of mild temperatures: 16\n",
            "Number of comfortable temperatures: 16\n",
            "Number of cold temperatures: 16\n"
          ]
        }
      ]
    },
    {
      "cell_type": "code",
      "source": [
        "#Given temperature data(celsius)\n",
        "temperatures = [8.2, 17.4, 14.1, 7.9, 18.0, 13.5, 9.0, 17.8, 13.0, 8.5,\n",
        "    16.5, 12.9, 7.7, 17.2, 13.3, 8.4, 16.7, 14.0, 9.5, 18.3,\n",
        "    13.4, 8.1, 17.9, 14.2, 7.6, 17.0, 12.8, 8.0, 16.8, 13.7,\n",
        "    7.8, 17.5, 13.6, 8.7, 17.1, 13.8, 9.2, 18.1, 13.9, 8.3,\n",
        "    16.4, 12.7, 8.9, 18.2, 13.1, 7.8, 16.6, 12.5]\n",
        "\n",
        "#Create empty lists for night , evening and day temperatures\n",
        "night = []\n",
        "evening =[]\n",
        "day     =[]\n",
        "\n",
        "#Iterate over the temperatures list and aasign each value to the correct time of day\n",
        "for i in range(len(temperatures)):\n",
        "  if i < 8:\n",
        "    night.append(temperatures[i])\n",
        "  elif i < 16:\n",
        "    evening.append(temperatures[i])\n",
        "  else:\n",
        "    day.append(temperatures[i])\n",
        "\n",
        "#Calculate the average temperature for the day\n",
        "average_day_temperature =sum(day) / len(day)\n",
        "\n",
        "#Print the result\n",
        "print(f\"Average daytime temperature(16:00 to 24:00): {average_day_temperature:.2f}°C\")"
      ],
      "metadata": {
        "colab": {
          "base_uri": "https://localhost:8080/"
        },
        "id": "qwrmLbzwjjrm",
        "outputId": "82c15358-6274-4580-a141-5b108a469ebc"
      },
      "execution_count": 14,
      "outputs": [
        {
          "output_type": "stream",
          "name": "stdout",
          "text": [
            "Average daytime temperature(16:00 to 24:00): 13.19°C\n"
          ]
        }
      ]
    },
    {
      "cell_type": "code",
      "source": [
        "#Initialize the function\n",
        "def sum_nested_list(nested_list):\n",
        "  total =0\n",
        "  for element in nested_list:\n",
        "    if isinstance(element,list):\n",
        "      total += sum_nested_list(element)\n",
        "    else:\n",
        "      total += element\n",
        "  return total\n",
        "\n",
        "# Test the function with the sample nested list\n",
        "nested_list =[1,[2,[3,4],5],6,[7,8]]\n",
        "result = sum_nested_list(nested_list)\n",
        "print(result)"
      ],
      "metadata": {
        "colab": {
          "base_uri": "https://localhost:8080/"
        },
        "id": "1PZ1yYqgjjzl",
        "outputId": "21cee6e7-4664-4a20-f8a8-5203c030b836"
      },
      "execution_count": 16,
      "outputs": [
        {
          "output_type": "stream",
          "name": "stdout",
          "text": [
            "36\n"
          ]
        }
      ]
    },
    {
      "cell_type": "markdown",
      "source": [],
      "metadata": {
        "id": "tQJHW8RVtAVl"
      }
    },
    {
      "cell_type": "code",
      "source": [
        "#Initialize the function\n",
        "def generate_permutations(s):\n",
        "  if len(s) ==0:\n",
        "    return[\"\"]\n",
        "  permutations=[] #List to store all permutations\n",
        "  for i in range(len(s)):\n",
        "    part = s[:i] + s[i+1:]\n",
        "    for perm in generate_permutations(part):\n",
        "      permutations.append(s[i] + perm)\n",
        "  return permutations\n",
        "#print the results\n",
        "print(generate_permutations(\"abc\"))\n"
      ],
      "metadata": {
        "colab": {
          "base_uri": "https://localhost:8080/"
        },
        "id": "2pqugidQjkAY",
        "outputId": "ec9d29b3-1aef-4ee4-be72-3984ebb78787"
      },
      "execution_count": 17,
      "outputs": [
        {
          "output_type": "stream",
          "name": "stdout",
          "text": [
            "['abc', 'acb', 'bac', 'bca', 'cab', 'cba']\n"
          ]
        }
      ]
    },
    {
      "cell_type": "code",
      "source": [
        "#Initialize the function\n",
        "def calculator_directory_size(directory):\n",
        "#Initialize total size\n",
        "  total_size =0\n",
        "  for item, size in directory.items():\n",
        "    if isinstance(size,dict):\n",
        "      total_size += calculator_directory_size(size)\n",
        "    else:\n",
        "        total_size += size\n",
        "  return total_size\n",
        "\n",
        "directory_structure = {\n",
        "    \"file1.txt\": 200,\n",
        "    \"file2.txt\": 300,\n",
        "    \"subdir1\": {\n",
        "        \"file3.txt\": 400,\n",
        "        \"file4.txt\": 100\n",
        "    },\n",
        "    \"subdir2\": {\n",
        "        \"subsubdir1\": {\n",
        "            \"file5.txt\": 250\n",
        "        },\n",
        "        \"file6.txt\": 150\n",
        "    }\n",
        "}\n",
        "#\n",
        "print(calculator_directory_size(directory_structure))"
      ],
      "metadata": {
        "colab": {
          "base_uri": "https://localhost:8080/"
        },
        "id": "oBnUuT9huazb",
        "outputId": "6ac5ded7-45d9-4db8-985b-ba9f1533d38d"
      },
      "execution_count": 26,
      "outputs": [
        {
          "output_type": "stream",
          "name": "stdout",
          "text": [
            "1400\n"
          ]
        }
      ]
    },
    {
      "cell_type": "code",
      "source": [
        "#Initialize the function\n",
        "def min_coins(coins,amount):\n",
        "   \"\"\"\n",
        "    Finds the minimum number of coins needed to make up the given amount.\n",
        "    If it's not possible, returns -1.\n",
        "\n",
        "    :param coins: List[int] - Available coin denominations\n",
        "    :param amount: int - Target amount\n",
        "    :return: int - Minimum number of coins needed, or -1 if not possible\n",
        "    \"\"\"\n",
        "  # Create a Dp yo store the minimum  coins for each amount.\n",
        "    # Initialize it with \"infinity\" (float('inf')), as we start assuming no solution.\n",
        "   dp = [float('inf')] * (amount + 1)\n",
        "   dp[0] = 0\n",
        "\n",
        "   # Loop through all amounts from 1 to the target amount.\n",
        "   for i in range(1, amount + 1):\n",
        "        for coin in coins:\n",
        "            if i >= coin:\n",
        "                dp[i] = min(dp[i], dp[i - coin] + 1)\n",
        "\n",
        "\n",
        "   return dp[amount] if dp[amount] != float('inf') else -1\n",
        "\n",
        "# Test case\n",
        "coins = [1, 2, 5]\n",
        "amount = 11\n",
        "\n",
        "# print the result.\n",
        "result = min_coins(coins, amount)\n",
        "print(result)"
      ],
      "metadata": {
        "colab": {
          "base_uri": "https://localhost:8080/"
        },
        "id": "tfUPB4ZmueDd",
        "outputId": "ee3e5dd6-fec7-4412-a17e-62c96612d4bf"
      },
      "execution_count": 37,
      "outputs": [
        {
          "output_type": "stream",
          "name": "stdout",
          "text": [
            "3\n"
          ]
        }
      ]
    },
    {
      "cell_type": "code",
      "source": [
        "#Initialize the function\n",
        "def longest_common_subsequence(s1, s2):\n",
        "    \"\"\"\n",
        "    Finds the length of the longest common subsequence (LCS) of two strings.\n",
        "\n",
        "    :param s1: str - The first string\n",
        "    :param s2: str - The second string\n",
        "    :return: int - Length of the LCS\n",
        "    \"\"\"\n",
        "    # Lengths of the two strings\n",
        "    m, n = len(s1), len(s2)\n",
        "\n",
        "    # Create a 2D DP table initialized with 0s\n",
        "    dp = [[0] * (n + 1) for _ in range(m + 1)]\n",
        "\n",
        "    for i in range(1, m + 1):\n",
        "        for j in range(1, n + 1):\n",
        "            if s1[i - 1] == s2[j - 1]:\n",
        "                dp[i][j] = dp[i - 1][j - 1] + 1\n",
        "            else:\n",
        "                dp[i][j] = max(dp[i - 1][j], dp[i][j - 1])\n",
        "\n",
        "    return dp[m][n]\n",
        "# Test case\n",
        "s1 = \"abcde\"\n",
        "s2 =\"ace\"\n",
        "result =longest_common_subsequence(s1,s2)\n",
        "print(result)\n"
      ],
      "metadata": {
        "colab": {
          "base_uri": "https://localhost:8080/"
        },
        "id": "vUOKdbXWueRv",
        "outputId": "b369116e-fc60-40a2-a634-100d82c3005f"
      },
      "execution_count": 46,
      "outputs": [
        {
          "output_type": "stream",
          "name": "stdout",
          "text": [
            "3\n"
          ]
        }
      ]
    },
    {
      "cell_type": "code",
      "source": [
        "#Initialize the function\n",
        "def knapsack(weights,values,capacity):\n",
        "  #Initialize a Dp array where dp[w] represents the max value with weight limit w\n",
        "  dp =[0] *(capacity +1)\n",
        "  for i in range(len(weights)):\n",
        "       for w in range(capacity, weights[i] - 1, -1):\n",
        "            dp[w] = max(dp[w], dp[w - weights[i]] + values[i])\n",
        "  return dp[capacity]\n",
        "#Test case\n",
        "weights =[1,3,4,5]\n",
        "values=[1,4,5,7]\n",
        "capacity = 7\n",
        "result = knapsack(weights ,values , capacity)\n",
        "print(\"Maximum value:\" ,result)"
      ],
      "metadata": {
        "colab": {
          "base_uri": "https://localhost:8080/"
        },
        "id": "wyxGO8RiuefC",
        "outputId": "c58d9c2a-59e1-496e-f000-5cc3371b21c1"
      },
      "execution_count": 45,
      "outputs": [
        {
          "output_type": "stream",
          "name": "stdout",
          "text": [
            "Maximum value: 9\n"
          ]
        }
      ]
    }
  ]
}